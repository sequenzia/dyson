{
  "nbformat": 4,
  "nbformat_minor": 0,
  "metadata": {
    "colab": {
      "name": "run_photon.ipynb",
      "provenance": [],
      "background_execution": "on",
      "collapsed_sections": [],
      "machine_shape": "hm",
      "authorship_tag": "ABX9TyO5DANUd7J5oaQbqxx0Lkzo",
      "include_colab_link": true
    },
    "kernelspec": {
      "name": "python3",
      "display_name": "Python 3"
    },
    "language_info": {
      "name": "python"
    },
    "accelerator": "GPU",
    "gpuClass": "standard"
  },
  "cells": [
    {
      "cell_type": "markdown",
      "metadata": {
        "id": "view-in-github",
        "colab_type": "text"
      },
      "source": [
        "<a href=\"https://colab.research.google.com/github/sequenzia/dyson/blob/master/run_photon.ipynb\" target=\"_parent\"><img src=\"https://colab.research.google.com/assets/colab-badge.svg\" alt=\"Open In Colab\"/></a>"
      ]
    },
    {
      "cell_type": "code",
      "source": [
        "import os, sys\n",
        "\n",
        "try:\n",
        "    import photon\n",
        "except ModuleNotFoundError:\n",
        "    !pip install photon-ml   \n",
        "    import photon\n",
        "\n",
        "dyson_dir = '/content/dyson/ml_research'\n",
        "data_dir = dyson_dir+'/data'\n",
        "\n",
        "if not os.path.exists(dyson_dir):\n",
        "    !git clone https://github.com/sequenzia/dyson.git\n",
        "\n",
        "if dyson_dir not in sys.path:\n",
        "    try:\n",
        "        sys.path.insert(0,dyson_dir)\n",
        "    except:\n",
        "        print('cannot add dyson directory to sys path')\n"
      ],
      "metadata": {
        "id": "tMeBN5iaRLGm"
      },
      "execution_count": null,
      "outputs": []
    },
    {
      "cell_type": "code",
      "source": [
        "import config\n",
        "\n",
        "config.network_config['data_dir'] = data_dir\n",
        "config.network_config['data_fn'] = 'SPY_1T_2016_2017'\n",
        "\n",
        "photon = photon.Photon()\n",
        "\n",
        "net = photon.Networks(photon=photon, **config.network_config)\n",
        "tree = photon.Trees(network=net, **config.tree_config)\n",
        "\n",
        "cnn_branch = photon.Branches(trees=[tree], **config.cnn_config)\n",
        "ens_branch = photon.Branches(trees=[tree], **config.ens_config)\n",
        "rnn_branch = photon.Branches(trees=[tree], **config.rnn_config)\n",
        "trans_branch = photon.Branches(trees=[tree], **config.trans_config)\n",
        "\n",
        "run = net.gamma.run_network(branches=[cnn_branch])"
      ],
      "metadata": {
        "id": "yQ_10BMoU6ml"
      },
      "execution_count": 2,
      "outputs": []
    }
  ]
}
