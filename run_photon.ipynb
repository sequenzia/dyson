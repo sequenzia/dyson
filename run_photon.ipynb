{
  "cells": [
    {
      "attachments": {},
      "cell_type": "markdown",
      "metadata": {
        "colab_type": "text",
        "id": "view-in-github"
      },
      "source": [
        "<a href=\"https://colab.research.google.com/github/sequenzia/dyson/blob/master/run_photon.ipynb\" target=\"_parent\"><img src=\"https://colab.research.google.com/assets/colab-badge.svg\" alt=\"Open In Colab\"/></a>"
      ]
    },
    {
      "cell_type": "code",
      "execution_count": null,
      "metadata": {
        "id": "tMeBN5iaRLGm"
      },
      "outputs": [],
      "source": [
        "!wget -q https://raw.githubusercontent.com/sequenzia/dyson/master/colab_setup.sh -O /content/colab_setup.sh\n",
        "!chmod +x /content/colab_setup.sh\n",
        "!/content/colab_setup.sh"
      ]
    },
    {
      "cell_type": "code",
      "execution_count": 2,
      "metadata": {
        "id": "yQ_10BMoU6ml"
      },
      "outputs": [],
      "source": [
        "import sys, os\n",
        "import numpy as np, tensorflow as tf\n",
        "import config\n",
        "from photon import Photon\n",
        "\n",
        "RUN_LOCAL = True\n",
        "LOCAL_PATH = '/var/lib/alpha/omega/photon/src'\n",
        "DATA_DIR = '/var/lib/alpha/omega/dyson/ml_research/data'\n",
        "\n",
        "config.network_config['data_dir'] = DATA_DIR\n",
        "config.network_config['data_fn'] = 'SPY_1T_2016_2017'\n",
        "\n",
        "photon = Photon(run_local=RUN_LOCAL)\n",
        "\n",
        "net = photon.Networks(photon=photon, **config.network_config)\n",
        "tree = photon.Trees(network=net, **config.tree_config)\n",
        "\n",
        "cnn_branch = photon.Branches(trees=[tree], **config.cnn_config)\n",
        "ens_branch = photon.Branches(trees=[tree], **config.ens_config)\n",
        "rnn_branch = photon.Branches(trees=[tree], **config.rnn_config)\n",
        "trans_branch = photon.Branches(trees=[tree], **config.trans_config)\n",
        "\n",
        "run = net.gamma.run_network(branches=[trans_branch])\n"
      ]
    }
  ],
  "metadata": {
    "accelerator": "GPU",
    "colab": {
      "authorship_tag": "ABX9TyO5DANUd7J5oaQbqxx0Lkzo",
      "background_execution": "on",
      "collapsed_sections": [],
      "include_colab_link": true,
      "machine_shape": "hm",
      "name": "run_photon.ipynb",
      "provenance": []
    },
    "gpuClass": "standard",
    "kernelspec": {
      "display_name": "Python 3",
      "name": "python3"
    },
    "language_info": {
      "name": "python"
    }
  },
  "nbformat": 4,
  "nbformat_minor": 0
}
